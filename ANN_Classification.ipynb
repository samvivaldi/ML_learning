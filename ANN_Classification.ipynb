{
 "cells": [
  {
   "cell_type": "code",
   "execution_count": 1,
   "metadata": {},
   "outputs": [
    {
     "name": "stderr",
     "output_type": "stream",
     "text": [
      "C:\\ProgramData\\Anaconda3\\lib\\site-packages\\h5py\\__init__.py:36: FutureWarning: Conversion of the second argument of issubdtype from `float` to `np.floating` is deprecated. In future, it will be treated as `np.float64 == np.dtype(float).type`.\n",
      "  from ._conv import register_converters as _register_converters\n",
      "Using TensorFlow backend.\n"
     ]
    }
   ],
   "source": [
    "import numpy as np\n",
    "from keras import datasets\n",
    "from keras.utils import np_utils\n",
    "import keras\n",
    "import matplotlib.pyplot as plt"
   ]
  },
  {
   "cell_type": "code",
   "execution_count": 2,
   "metadata": {},
   "outputs": [],
   "source": [
    "(X_train, y_train), (X_test, y_test) = datasets.mnist.load_data()\n",
    "X_check = X_test.copy()"
   ]
  },
  {
   "cell_type": "code",
   "execution_count": 3,
   "metadata": {},
   "outputs": [
    {
     "data": {
      "text/plain": [
       "array([5, 0, 4, 1, 9, 2, 1, 3, 1, 4], dtype=uint8)"
      ]
     },
     "execution_count": 3,
     "metadata": {},
     "output_type": "execute_result"
    }
   ],
   "source": [
    "y_train[:10] "
   ]
  },
  {
   "cell_type": "code",
   "execution_count": 4,
   "metadata": {},
   "outputs": [
    {
     "data": {
      "text/plain": [
       "<matplotlib.image.AxesImage at 0x1a2eed94160>"
      ]
     },
     "execution_count": 4,
     "metadata": {},
     "output_type": "execute_result"
    },
    {
     "data": {
      "image/png": "[encoded data removed]",
      "text/plain": [
       "<Figure size 432x288 with 1 Axes>"
      ]
     },
     "metadata": {},
     "output_type": "display_data"
    }
   ],
   "source": [
    "image_array = X_train[4]\n",
    "image_array.shape\n",
    "plt.imshow(image_array, cmap='gray', interpolation='None')"
   ]
  },
  {
   "cell_type": "code",
   "execution_count": 5,
   "metadata": {},
   "outputs": [],
   "source": [
    "Y_train = np_utils.to_categorical(y_train)\n",
    "Y_test = np_utils.to_categorical(y_test)"
   ]
  },
  {
   "cell_type": "code",
   "execution_count": 6,
   "metadata": {},
   "outputs": [
    {
     "data": {
      "text/plain": [
       "(60000, 28, 28)"
      ]
     },
     "execution_count": 6,
     "metadata": {},
     "output_type": "execute_result"
    }
   ],
   "source": [
    "X_train.shape"
   ]
  },
  {
   "cell_type": "code",
   "execution_count": 7,
   "metadata": {},
   "outputs": [],
   "source": [
    "L, W, H = X_train.shape\n"
   ]
  },
  {
   "cell_type": "code",
   "execution_count": 8,
   "metadata": {},
   "outputs": [],
   "source": [
    "X_train = X_train.reshape(-1, W * H)\n",
    "X_test = X_test.reshape(-1, W * H)\n",
    "X_train = X_train / 255.0\n",
    "X_test = X_test / 255.0"
   ]
  },
  {
   "cell_type": "code",
   "execution_count": 9,
   "metadata": {},
   "outputs": [],
   "source": [
    "import matplotlib.pyplot as plt"
   ]
  },
  {
   "cell_type": "code",
   "execution_count": 10,
   "metadata": {},
   "outputs": [],
   "source": [
    "def plot_loss(history):\n",
    "    plt.plot(history.history['loss'])\n",
    "    plt.plot(history.history['val_loss'])\n",
    "    plt.title('Model Loss')\n",
    "    plt.ylabel('Loss')\n",
    "    plt.xlabel('Epoch')\n",
    "    plt.legend(['train', 'test'])"
   ]
  },
  {
   "cell_type": "code",
   "execution_count": 11,
   "metadata": {},
   "outputs": [],
   "source": [
    "def plot_acc(history):\n",
    "    plt.plot(history.history['acc'])\n",
    "    plt.plot(history.history['val_acc'])\n",
    "    plt.title('Model accuracy')\n",
    "    plt.ylabel('Accuracy')\n",
    "    plt.xlabel('Epoch')\n",
    "    plt.legend(['train', 'test'])"
   ]
  },
  {
   "cell_type": "code",
   "execution_count": 12,
   "metadata": {},
   "outputs": [],
   "source": [
    "from keras.layers import Dense"
   ]
  },
  {
   "cell_type": "code",
   "execution_count": 13,
   "metadata": {},
   "outputs": [],
   "source": [
    "model = keras.models.Sequential()\n",
    "model.add(keras.layers.Dense(100, activation='relu', input_shape=(784,)))\n",
    "model.add(keras.layers.Dense(10, activation='softmax'))\n",
    "model.compile('adam', loss='categorical_crossentropy', metrics=['accuracy'])\n"
   ]
  },
  {
   "cell_type": "code",
   "execution_count": 14,
   "metadata": {},
   "outputs": [],
   "source": [
    "### 상속을 사용한 방식\n",
    "# class ANN_seq_class(models.Sequential):\n",
    "#     def __init__(self, Nin, Nh, Nout):\n",
    "#         super().__init__()\n",
    "#         self.add(layers.Dense(Nh, activation='relu', input_shape=(Nin,)))\n",
    "#         self.add(layers.Dense(Nout, activation='softmax'))\n",
    "#         self.compile(loss='categorical_crossentropy',\n",
    "#                      optimizer='adam', metrics=['accuracy'])"
   ]
  },
  {
   "cell_type": "code",
   "execution_count": 15,
   "metadata": {},
   "outputs": [
    {
     "name": "stdout",
     "output_type": "stream",
     "text": [
      "Train on 48000 samples, validate on 12000 samples\n",
      "Epoch 1/15\n",
      "48000/48000 [==============================] - 2s 42us/step - loss: 0.3980 - acc: 0.8916 - val_loss: 0.2156 - val_acc: 0.9388\n",
      "Epoch 2/15\n",
      "48000/48000 [==============================] - 2s 32us/step - loss: 0.1944 - acc: 0.9440 - val_loss: 0.1735 - val_acc: 0.9512\n",
      "Epoch 3/15\n",
      "48000/48000 [==============================] - 2s 32us/step - loss: 0.1447 - acc: 0.9576 - val_loss: 0.1455 - val_acc: 0.9577\n",
      "Epoch 4/15\n",
      "48000/48000 [==============================] - 2s 32us/step - loss: 0.1135 - acc: 0.9677 - val_loss: 0.1263 - val_acc: 0.9633\n",
      "Epoch 5/15\n",
      "48000/48000 [==============================] - 2s 32us/step - loss: 0.0931 - acc: 0.9733 - val_loss: 0.1121 - val_acc: 0.9673\n",
      "Epoch 6/15\n",
      "48000/48000 [==============================] - 2s 32us/step - loss: 0.0785 - acc: 0.9774 - val_loss: 0.1103 - val_acc: 0.9671\n",
      "Epoch 7/15\n",
      "48000/48000 [==============================] - 2s 33us/step - loss: 0.0660 - acc: 0.9803 - val_loss: 0.1038 - val_acc: 0.9696\n",
      "Epoch 8/15\n",
      "48000/48000 [==============================] - 2s 33us/step - loss: 0.0572 - acc: 0.9831 - val_loss: 0.0998 - val_acc: 0.9710\n",
      "Epoch 9/15\n",
      "48000/48000 [==============================] - 2s 34us/step - loss: 0.0487 - acc: 0.9860 - val_loss: 0.0932 - val_acc: 0.9727\n",
      "Epoch 10/15\n",
      "48000/48000 [==============================] - 2s 37us/step - loss: 0.0432 - acc: 0.9879 - val_loss: 0.0939 - val_acc: 0.9739\n",
      "Epoch 11/15\n",
      "48000/48000 [==============================] - 2s 35us/step - loss: 0.0366 - acc: 0.9898 - val_loss: 0.0902 - val_acc: 0.9742\n",
      "Epoch 12/15\n",
      "48000/48000 [==============================] - 2s 38us/step - loss: 0.0312 - acc: 0.9915 - val_loss: 0.0892 - val_acc: 0.9743\n",
      "Epoch 13/15\n",
      "48000/48000 [==============================] - 2s 35us/step - loss: 0.0271 - acc: 0.9930 - val_loss: 0.0891 - val_acc: 0.9742\n",
      "Epoch 14/15\n",
      "48000/48000 [==============================] - 2s 33us/step - loss: 0.0241 - acc: 0.9940 - val_loss: 0.0889 - val_acc: 0.9748\n",
      "Epoch 15/15\n",
      "48000/48000 [==============================] - 2s 33us/step - loss: 0.0211 - acc: 0.9946 - val_loss: 0.0911 - val_acc: 0.9742\n"
     ]
    }
   ],
   "source": [
    "history = model.fit(X_train, Y_train, epochs=15, batch_size=100, validation_split=0.2, verbose=1)"
   ]
  },
  {
   "cell_type": "code",
   "execution_count": 16,
   "metadata": {},
   "outputs": [
    {
     "name": "stdout",
     "output_type": "stream",
     "text": [
      "10000/10000 [==============================] - 0s 21us/step\n"
     ]
    }
   ],
   "source": [
    "performace_test = model.evaluate(X_test, Y_test, batch_size=100)"
   ]
  },
  {
   "cell_type": "code",
   "execution_count": 17,
   "metadata": {},
   "outputs": [
    {
     "data": {
      "text/plain": [
       "[0.0809276940037671, 0.9758000081777572]"
      ]
     },
     "execution_count": 17,
     "metadata": {},
     "output_type": "execute_result"
    }
   ],
   "source": [
    "performace_test"
   ]
  },
  {
   "cell_type": "code",
   "execution_count": 18,
   "metadata": {},
   "outputs": [
    {
     "data": {
      "image/png": "[encoded data removed]",
      "text/plain": [
       "<Figure size 432x288 with 1 Axes>"
      ]
     },
     "metadata": {},
     "output_type": "display_data"
    }
   ],
   "source": [
    "plot_loss(history)"
   ]
  },
  {
   "cell_type": "code",
   "execution_count": 19,
   "metadata": {
    "scrolled": true
   },
   "outputs": [
    {
     "data": {
      "image/png": "[encoded data removed]",
      "text/plain": [
       "<Figure size 432x288 with 1 Axes>"
      ]
     },
     "metadata": {},
     "output_type": "display_data"
    }
   ],
   "source": [
    "plot_acc(history)"
   ]
  },
  {
   "cell_type": "code",
   "execution_count": 20,
   "metadata": {
    "scrolled": true
   },
   "outputs": [
    {
     "data": {
      "text/plain": [
       "<matplotlib.image.AxesImage at 0x1a2eaefb550>"
      ]
     },
     "execution_count": 20,
     "metadata": {},
     "output_type": "execute_result"
    },
    {
     "data": {
      "image/png": "[encoded data removed]",
      "text/plain": [
       "<Figure size 432x288 with 1 Axes>"
      ]
     },
     "metadata": {},
     "output_type": "display_data"
    }
   ],
   "source": [
    "image_array = X_check[4]\n",
    "image_array.shape\n",
    "plt.imshow(image_array, cmap='gray', interpolation='None')\n"
   ]
  },
  {
   "cell_type": "code",
   "execution_count": 21,
   "metadata": {},
   "outputs": [],
   "source": [
    "input1 = X_check[4].reshape(-1, W * H) / 256"
   ]
  },
  {
   "cell_type": "code",
   "execution_count": 33,
   "metadata": {},
   "outputs": [
    {
     "data": {
      "text/plain": [
       "array([[4.3119737e-08, 1.2066967e-10, 7.2307932e-07, 1.0240717e-09,\n",
       "        9.9402386e-01, 2.5105555e-08, 2.0257833e-07, 2.5179913e-06,\n",
       "        5.9949099e-07, 5.9721451e-03]], dtype=float32)"
      ]
     },
     "execution_count": 33,
     "metadata": {},
     "output_type": "execute_result"
    }
   ],
   "source": [
    "t = model.predict(input1)\n",
    "t"
   ]
  },
  {
   "cell_type": "code",
   "execution_count": 25,
   "metadata": {},
   "outputs": [],
   "source": [
    "def softmax(x):\n",
    "    ex_x = np.exp(x - np.max(x))\n",
    "    return ex_x / np.sum(ex_x)"
   ]
  },
  {
   "cell_type": "code",
   "execution_count": 34,
   "metadata": {},
   "outputs": [
    {
     "data": {
      "text/plain": [
       "array([[0.08541111, 0.0854111 , 0.08541116, 0.0854111 , 0.2307881 ,\n",
       "        0.0854111 , 0.08541112, 0.08541132, 0.08541115, 0.08592272]],\n",
       "      dtype=float32)"
      ]
     },
     "execution_count": 34,
     "metadata": {},
     "output_type": "execute_result"
    }
   ],
   "source": [
    "softmax(t)"
   ]
  },
  {
   "cell_type": "code",
   "execution_count": 35,
   "metadata": {},
   "outputs": [
    {
     "data": {
      "text/plain": [
       "4"
      ]
     },
     "execution_count": 35,
     "metadata": {},
     "output_type": "execute_result"
    }
   ],
   "source": [
    "np.argmax(softmax(t))"
   ]
  },
  {
   "cell_type": "code",
   "execution_count": 30,
   "metadata": {},
   "outputs": [
    {
     "data": {
      "text/plain": [
       "array([4], dtype=int64)"
      ]
     },
     "execution_count": 30,
     "metadata": {},
     "output_type": "execute_result"
    }
   ],
   "source": [
    "predict_c = model.predict_classes(input1)\n",
    "predict_c"
   ]
  },
  {
   "cell_type": "code",
   "execution_count": null,
   "metadata": {},
   "outputs": [],
   "source": []
  }
 ],
 "metadata": {
  "kernelspec": {
   "display_name": "Python 3",
   "language": "python",
   "name": "python3"
  },
  "language_info": {
   "codemirror_mode": {
    "name": "ipython",
    "version": 3
   },
   "file_extension": ".py",
   "mimetype": "text/x-python",
   "name": "python",
   "nbconvert_exporter": "python",
   "pygments_lexer": "ipython3",
   "version": "3.6.4"
  }
 },
 "nbformat": 4,
 "nbformat_minor": 2
}
