{
 "cells": [
  {
   "cell_type": "code",
   "execution_count": 34,
   "metadata": {},
   "outputs": [],
   "source": [
    "import numpy as np\n",
    "from keras import layers, models\n",
    "from keras import datasets\n",
    "from sklearn.preprocessing import MinMaxScaler\n",
    "import matplotlib.pyplot as plt\n",
    "import keras"
   ]
  },
  {
   "cell_type": "code",
   "execution_count": 35,
   "metadata": {},
   "outputs": [],
   "source": [
    "(X_train, y_train), (X_test, y_test) = datasets.boston_housing.load_data()\n"
   ]
  },
  {
   "cell_type": "code",
   "execution_count": 36,
   "metadata": {},
   "outputs": [],
   "source": [
    "X_orig = X_test.copy()\n",
    "y_orig = y_test.copy()"
   ]
  },
  {
   "cell_type": "code",
   "execution_count": 37,
   "metadata": {},
   "outputs": [],
   "source": [
    "scaler = MinMaxScaler()\n",
    "X_train = scaler.fit_transform(X_train)\n",
    "X_test = scaler.transform(X_test)"
   ]
  },
  {
   "cell_type": "code",
   "execution_count": 38,
   "metadata": {},
   "outputs": [],
   "source": [
    "#pyplot 한글설정\n",
    "import matplotlib\n",
    "font_name = matplotlib.font_manager.FontProperties(fname=\"c:/Windows/Fonts/malgun.ttf\").get_name()\n",
    "matplotlib.rc('font', family=font_name)\n"
   ]
  },
  {
   "cell_type": "code",
   "execution_count": 39,
   "metadata": {},
   "outputs": [],
   "source": [
    "def plot_acc(history, title=None):\n",
    "    # summarize history for accuracy\n",
    "    if not isinstance(history, dict):\n",
    "        history = history.history\n",
    "\n",
    "    plt.plot(history['acc'])\n",
    "    plt.plot(history['val_acc'])\n",
    "    if title is not None:\n",
    "        plt.title(title)\n",
    "    plt.ylabel('정확도')\n",
    "    plt.xlabel('에포크')\n",
    "    plt.legend(['학습 데이터 성능', '검증 데이터 성능'], loc=0)\n",
    "    # plt.show()\n",
    "\n",
    "\n",
    "def plot_loss(history, title=None):\n",
    "    # summarize history for loss\n",
    "    if not isinstance(history, dict):\n",
    "        history = history.history\n",
    "\n",
    "    plt.plot(history['loss'])\n",
    "    plt.plot(history['val_loss'])\n",
    "    if title is not None:\n",
    "        plt.title(title)\n",
    "    plt.ylabel('손실')\n",
    "    plt.xlabel('에포크')\n",
    "    plt.legend(['학습 데이터 성능', '검증 데이터 성능'], loc=0)\n",
    "    # plt.show()\n"
   ]
  },
  {
   "cell_type": "code",
   "execution_count": 40,
   "metadata": {},
   "outputs": [],
   "source": [
    "model = keras.models.Sequential()\n",
    "model.add(keras.layers.Dense(5, input_shape=(13,), activation='relu'))\n",
    "model.add(keras.layers.Dense(1))"
   ]
  },
  {
   "cell_type": "code",
   "execution_count": 41,
   "metadata": {},
   "outputs": [],
   "source": [
    "model.compile('sgd', loss='mse')"
   ]
  },
  {
   "cell_type": "code",
   "execution_count": 42,
   "metadata": {
    "scrolled": true
   },
   "outputs": [
    {
     "name": "stdout",
     "output_type": "stream",
     "text": [
      "Train on 323 samples, validate on 81 samples\n",
      "Epoch 1/100\n",
      " - 0s - loss: 562.4421 - val_loss: 528.2964\n",
      "Epoch 2/100\n",
      " - 0s - loss: 352.0744 - val_loss: 119.0625\n",
      "Epoch 3/100\n",
      " - 0s - loss: 115.9785 - val_loss: 100.0122\n",
      "Epoch 4/100\n",
      " - 0s - loss: 79.8496 - val_loss: 75.8023\n",
      "Epoch 5/100\n",
      " - 0s - loss: 65.7406 - val_loss: 109.4788\n",
      "Epoch 6/100\n",
      " - 0s - loss: 63.0938 - val_loss: 62.4258\n",
      "Epoch 7/100\n",
      " - 0s - loss: 50.0930 - val_loss: 57.7582\n",
      "Epoch 8/100\n",
      " - 0s - loss: 46.7168 - val_loss: 49.6342\n",
      "Epoch 9/100\n",
      " - 0s - loss: 47.9048 - val_loss: 93.5267\n",
      "Epoch 10/100\n",
      " - 0s - loss: 47.7704 - val_loss: 44.9786\n",
      "Epoch 11/100\n",
      " - 0s - loss: 51.6211 - val_loss: 43.9471\n",
      "Epoch 12/100\n",
      " - 0s - loss: 40.3382 - val_loss: 43.2036\n",
      "Epoch 13/100\n",
      " - 0s - loss: 37.4653 - val_loss: 43.9018\n",
      "Epoch 14/100\n",
      " - 0s - loss: 42.9087 - val_loss: 42.8577\n",
      "Epoch 15/100\n",
      " - 0s - loss: 47.4582 - val_loss: 35.9764\n",
      "Epoch 16/100\n",
      " - 0s - loss: 42.7042 - val_loss: 35.9589\n",
      "Epoch 17/100\n",
      " - 0s - loss: 38.4909 - val_loss: 34.0580\n",
      "Epoch 18/100\n",
      " - 0s - loss: 35.2152 - val_loss: 32.6257\n",
      "Epoch 19/100\n",
      " - 0s - loss: 37.9052 - val_loss: 32.2975\n",
      "Epoch 20/100\n",
      " - 0s - loss: 38.3640 - val_loss: 33.1603\n",
      "Epoch 21/100\n",
      " - 0s - loss: 32.7293 - val_loss: 37.3671\n",
      "Epoch 22/100\n",
      " - 0s - loss: 36.0345 - val_loss: 31.3684\n",
      "Epoch 23/100\n",
      " - 0s - loss: 37.2217 - val_loss: 36.7596\n",
      "Epoch 24/100\n",
      " - 0s - loss: 37.5405 - val_loss: 32.7166\n",
      "Epoch 25/100\n",
      " - 0s - loss: 36.2547 - val_loss: 29.1587\n",
      "Epoch 26/100\n",
      " - 0s - loss: 34.7486 - val_loss: 30.1756\n",
      "Epoch 27/100\n",
      " - 0s - loss: 34.3798 - val_loss: 37.5859\n",
      "Epoch 28/100\n",
      " - 0s - loss: 34.5006 - val_loss: 28.2728\n",
      "Epoch 29/100\n",
      " - 0s - loss: 32.1425 - val_loss: 27.4145\n",
      "Epoch 30/100\n",
      " - 0s - loss: 27.4151 - val_loss: 26.3343\n",
      "Epoch 31/100\n",
      " - 0s - loss: 26.4385 - val_loss: 38.3395\n",
      "Epoch 32/100\n",
      " - 0s - loss: 27.0956 - val_loss: 25.4817\n",
      "Epoch 33/100\n",
      " - 0s - loss: 25.2594 - val_loss: 24.9113\n",
      "Epoch 34/100\n",
      " - 0s - loss: 27.4971 - val_loss: 35.4601\n",
      "Epoch 35/100\n",
      " - 0s - loss: 45.5462 - val_loss: 28.1748\n",
      "Epoch 36/100\n",
      " - 0s - loss: 31.9387 - val_loss: 26.0716\n",
      "Epoch 37/100\n",
      " - 0s - loss: 25.2336 - val_loss: 27.3327\n",
      "Epoch 38/100\n",
      " - 0s - loss: 28.1454 - val_loss: 24.6231\n",
      "Epoch 39/100\n",
      " - 0s - loss: 25.9806 - val_loss: 27.9295\n",
      "Epoch 40/100\n",
      " - 0s - loss: 44.1748 - val_loss: 130.5228\n",
      "Epoch 41/100\n",
      " - 0s - loss: 91.9953 - val_loss: 24.9178\n",
      "Epoch 42/100\n",
      " - 0s - loss: 25.6598 - val_loss: 29.4916\n",
      "Epoch 43/100\n",
      " - 0s - loss: 27.8124 - val_loss: 26.2209\n",
      "Epoch 44/100\n",
      " - 0s - loss: 26.2756 - val_loss: 38.9117\n",
      "Epoch 45/100\n",
      " - 0s - loss: 37.3050 - val_loss: 23.5894\n",
      "Epoch 46/100\n",
      " - 0s - loss: 25.1795 - val_loss: 23.8184\n",
      "Epoch 47/100\n",
      " - 0s - loss: 24.7425 - val_loss: 38.6253\n",
      "Epoch 48/100\n",
      " - 0s - loss: 28.9076 - val_loss: 38.8879\n",
      "Epoch 49/100\n",
      " - 0s - loss: 31.2996 - val_loss: 34.8135\n",
      "Epoch 50/100\n",
      " - 0s - loss: 27.7800 - val_loss: 32.1628\n",
      "Epoch 51/100\n",
      " - 0s - loss: 25.7943 - val_loss: 22.9980\n",
      "Epoch 52/100\n",
      " - 0s - loss: 23.7815 - val_loss: 22.9885\n",
      "Epoch 53/100\n",
      " - 0s - loss: 24.9888 - val_loss: 47.8846\n",
      "Epoch 54/100\n",
      " - 0s - loss: 53.3567 - val_loss: 41.1451\n",
      "Epoch 55/100\n",
      " - 0s - loss: 33.8658 - val_loss: 39.6559\n",
      "Epoch 56/100\n",
      " - 0s - loss: 45.2164 - val_loss: 30.4769\n",
      "Epoch 57/100\n",
      " - 0s - loss: 24.8665 - val_loss: 27.7927\n",
      "Epoch 58/100\n",
      " - 0s - loss: 25.9749 - val_loss: 25.8564\n",
      "Epoch 59/100\n",
      " - 0s - loss: 24.7582 - val_loss: 25.0285\n",
      "Epoch 60/100\n",
      " - 0s - loss: 28.7370 - val_loss: 60.9144\n",
      "Epoch 61/100\n",
      " - 0s - loss: 57.0690 - val_loss: 25.2933\n",
      "Epoch 62/100\n",
      " - 0s - loss: 24.9462 - val_loss: 28.3420\n",
      "Epoch 63/100\n",
      " - 0s - loss: 25.0476 - val_loss: 30.9703\n",
      "Epoch 64/100\n",
      " - 0s - loss: 37.0686 - val_loss: 55.6294\n",
      "Epoch 65/100\n",
      " - 0s - loss: 52.1717 - val_loss: 24.0940\n",
      "Epoch 66/100\n",
      " - 0s - loss: 24.0575 - val_loss: 25.9040\n",
      "Epoch 67/100\n",
      " - 0s - loss: 24.1728 - val_loss: 24.0747\n",
      "Epoch 68/100\n",
      " - 0s - loss: 24.5471 - val_loss: 22.4195\n",
      "Epoch 69/100\n",
      " - 0s - loss: 23.0850 - val_loss: 22.5877\n",
      "Epoch 70/100\n",
      " - 0s - loss: 24.0444 - val_loss: 23.0186\n",
      "Epoch 71/100\n",
      " - 0s - loss: 26.8207 - val_loss: 22.0533\n",
      "Epoch 72/100\n",
      " - 0s - loss: 23.2243 - val_loss: 23.5575\n",
      "Epoch 73/100\n",
      " - 0s - loss: 28.6041 - val_loss: 26.7458\n",
      "Epoch 74/100\n",
      " - 0s - loss: 23.8380 - val_loss: 26.2855\n",
      "Epoch 75/100\n",
      " - 0s - loss: 25.8691 - val_loss: 31.8193\n",
      "Epoch 76/100\n",
      " - 0s - loss: 26.8388 - val_loss: 22.4983\n",
      "Epoch 77/100\n",
      " - 0s - loss: 23.9237 - val_loss: 21.6387\n",
      "Epoch 78/100\n",
      " - 0s - loss: 23.5668 - val_loss: 32.9857\n",
      "Epoch 79/100\n",
      " - 0s - loss: 26.2264 - val_loss: 23.9661\n",
      "Epoch 80/100\n",
      " - 0s - loss: 23.6944 - val_loss: 21.5399\n",
      "Epoch 81/100\n",
      " - 0s - loss: 22.6894 - val_loss: 21.6097\n",
      "Epoch 82/100\n",
      " - 0s - loss: 23.1286 - val_loss: 21.6996\n",
      "Epoch 83/100\n",
      " - 0s - loss: 23.5703 - val_loss: 32.3961\n",
      "Epoch 84/100\n",
      " - 0s - loss: 28.6403 - val_loss: 26.6939\n",
      "Epoch 85/100\n",
      " - 0s - loss: 23.3604 - val_loss: 27.0526\n",
      "Epoch 86/100\n",
      " - 0s - loss: 30.4914 - val_loss: 33.1458\n",
      "Epoch 87/100\n",
      " - 0s - loss: 30.6561 - val_loss: 49.0039\n",
      "Epoch 88/100\n",
      " - 0s - loss: 34.4934 - val_loss: 34.8073\n",
      "Epoch 89/100\n",
      " - 0s - loss: 27.9360 - val_loss: 32.8890\n",
      "Epoch 90/100\n",
      " - 0s - loss: 26.2002 - val_loss: 25.8810\n",
      "Epoch 91/100\n",
      " - 0s - loss: 25.2951 - val_loss: 22.1113\n",
      "Epoch 92/100\n",
      " - 0s - loss: 23.6791 - val_loss: 24.9331\n",
      "Epoch 93/100\n",
      " - 0s - loss: 26.5469 - val_loss: 30.9857\n",
      "Epoch 94/100\n",
      " - 0s - loss: 35.4224 - val_loss: 21.4419\n",
      "Epoch 95/100\n",
      " - 0s - loss: 23.9757 - val_loss: 21.0400\n",
      "Epoch 96/100\n",
      " - 0s - loss: 22.9900 - val_loss: 25.5275\n",
      "Epoch 97/100\n",
      " - 0s - loss: 26.5388 - val_loss: 22.0624\n",
      "Epoch 98/100\n",
      " - 0s - loss: 25.1463 - val_loss: 21.0018\n",
      "Epoch 99/100\n",
      " - 0s - loss: 22.3761 - val_loss: 22.0784\n",
      "Epoch 100/100\n",
      " - 0s - loss: 23.2634 - val_loss: 21.7452\n"
     ]
    }
   ],
   "source": [
    "history = model.fit(X_train, y_train, epochs=100, batch_size=100, validation_split=0.2, verbose=2)"
   ]
  },
  {
   "cell_type": "code",
   "execution_count": 43,
   "metadata": {},
   "outputs": [
    {
     "name": "stdout",
     "output_type": "stream",
     "text": [
      "102/102 [==============================] - 0s 121us/step\n"
     ]
    }
   ],
   "source": [
    "perfomance_test = model.evaluate(X_test, y_test)"
   ]
  },
  {
   "cell_type": "code",
   "execution_count": 44,
   "metadata": {},
   "outputs": [
    {
     "data": {
      "text/plain": [
       "21.151956595626533"
      ]
     },
     "execution_count": 44,
     "metadata": {},
     "output_type": "execute_result"
    }
   ],
   "source": [
    "perfomance_test   #Returns the loss value"
   ]
  },
  {
   "cell_type": "code",
   "execution_count": 45,
   "metadata": {
    "scrolled": true
   },
   "outputs": [
    {
     "data": {
      "image/png": "[encoded data removed]",
      "text/plain": [
       "<Figure size 432x288 with 1 Axes>"
      ]
     },
     "metadata": {},
     "output_type": "display_data"
    }
   ],
   "source": [
    "plot_loss(history)"
   ]
  },
  {
   "cell_type": "code",
   "execution_count": null,
   "metadata": {},
   "outputs": [],
   "source": []
  },
  {
   "cell_type": "code",
   "execution_count": null,
   "metadata": {},
   "outputs": [],
   "source": []
  }
 ],
 "metadata": {
  "kernelspec": {
   "display_name": "Python 3",
   "language": "python",
   "name": "python3"
  },
  "language_info": {
   "codemirror_mode": {
    "name": "ipython",
    "version": 3
   },
   "file_extension": ".py",
   "mimetype": "text/x-python",
   "name": "python",
   "nbconvert_exporter": "python",
   "pygments_lexer": "ipython3",
   "version": "3.6.4"
  }
 },
 "nbformat": 4,
 "nbformat_minor": 2
}
