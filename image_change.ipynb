{
 "cells": [
  {
   "cell_type": "code",
   "execution_count": 1,
   "metadata": {},
   "outputs": [],
   "source": [
    "from PIL import Image\n",
    "import os, glob\n",
    "import numpy as np"
   ]
  },
  {
   "cell_type": "code",
   "execution_count": 3,
   "metadata": {},
   "outputs": [],
   "source": [
    "fname = 'data\\iris Setosa.jpg'\n",
    "img = Image.open(fname)"
   ]
  },
  {
   "cell_type": "code",
   "execution_count": 4,
   "metadata": {},
   "outputs": [
    {
     "name": "stdout",
     "output_type": "stream",
     "text": [
      "image size (400, 266)\n"
     ]
    }
   ],
   "source": [
    "img = img.convert(\"RGB\")\n",
    "print('image size', img.size)\n"
   ]
  },
  {
   "cell_type": "code",
   "execution_count": 6,
   "metadata": {},
   "outputs": [],
   "source": [
    "img2 = img.resize((50, 50))\n",
    "img2.save('image_test/resize.jpg')"
   ]
  },
  {
   "cell_type": "code",
   "execution_count": 7,
   "metadata": {},
   "outputs": [],
   "source": [
    "img2 = img.convert('L')\n",
    "img2.save('image_test/blackwhite.jpg')"
   ]
  },
  {
   "cell_type": "code",
   "execution_count": 8,
   "metadata": {},
   "outputs": [
    {
     "name": "stdout",
     "output_type": "stream",
     "text": [
      "image size (400, 266)\n"
     ]
    }
   ],
   "source": [
    "img = Image.open(fname)\n",
    "print('image size', img.size)"
   ]
  },
  {
   "cell_type": "code",
   "execution_count": 9,
   "metadata": {},
   "outputs": [],
   "source": [
    "for ang in range(-20, 20, 5):\n",
    "    img2 = img.rotate(ang); \n",
    "    img2.save('image_test/rotate' + str(ang) + '.jpg')\n",
    "    data = np.asarray(img2) "
   ]
  },
  {
   "cell_type": "code",
   "execution_count": 10,
   "metadata": {},
   "outputs": [],
   "source": [
    "for ang in range(-20, 20, 5):\n",
    "    img2 = img.transpose(Image.FLIP_LEFT_RIGHT)\n",
    "    img2.save('image_test/transpose' + str(ang) + '.jpg')\n",
    "    data = np.asarray(img2) "
   ]
  },
  {
   "cell_type": "code",
   "execution_count": null,
   "metadata": {},
   "outputs": [],
   "source": []
  }
 ],
 "metadata": {
  "kernelspec": {
   "display_name": "Python 3",
   "language": "python",
   "name": "python3"
  },
  "language_info": {
   "codemirror_mode": {
    "name": "ipython",
    "version": 3
   },
   "file_extension": ".py",
   "mimetype": "text/x-python",
   "name": "python",
   "nbconvert_exporter": "python",
   "pygments_lexer": "ipython3",
   "version": "3.6.4"
  }
 },
 "nbformat": 4,
 "nbformat_minor": 2
}
