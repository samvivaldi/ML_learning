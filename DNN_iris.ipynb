{
 "cells": [
  {
   "cell_type": "code",
   "execution_count": 23,
   "metadata": {},
   "outputs": [],
   "source": [
    "import keras\n",
    "import numpy as np\n",
    "import matplotlib.pyplot as plt\n",
    "import pandas as pd\n",
    "from pandas import DataFrame, Series\n",
    "from sklearn.model_selection import train_test_split"
   ]
  },
  {
   "cell_type": "code",
   "execution_count": 24,
   "metadata": {},
   "outputs": [],
   "source": [
    "iris = pd.read_csv('./data/iris.data', sep=',', header=None)"
   ]
  },
  {
   "cell_type": "code",
   "execution_count": 25,
   "metadata": {},
   "outputs": [
    {
     "data": {
      "text/html": [
       "<div>\n",
       "<style scoped>\n",
       "    .dataframe tbody tr th:only-of-type {\n",
       "        vertical-align: middle;\n",
       "    }\n",
       "\n",
       "    .dataframe tbody tr th {\n",
       "        vertical-align: top;\n",
       "    }\n",
       "\n",
       "    .dataframe thead th {\n",
       "        text-align: right;\n",
       "    }\n",
       "</style>\n",
       "<table border=\"1\" class=\"dataframe\">\n",
       "  <thead>\n",
       "    <tr style=\"text-align: right;\">\n",
       "      <th></th>\n",
       "      <th>0</th>\n",
       "      <th>1</th>\n",
       "      <th>2</th>\n",
       "      <th>3</th>\n",
       "      <th>4</th>\n",
       "    </tr>\n",
       "  </thead>\n",
       "  <tbody>\n",
       "    <tr>\n",
       "      <th>0</th>\n",
       "      <td>5.1</td>\n",
       "      <td>3.5</td>\n",
       "      <td>1.4</td>\n",
       "      <td>0.2</td>\n",
       "      <td>Iris-setosa</td>\n",
       "    </tr>\n",
       "    <tr>\n",
       "      <th>1</th>\n",
       "      <td>4.9</td>\n",
       "      <td>3.0</td>\n",
       "      <td>1.4</td>\n",
       "      <td>0.2</td>\n",
       "      <td>Iris-setosa</td>\n",
       "    </tr>\n",
       "    <tr>\n",
       "      <th>2</th>\n",
       "      <td>4.7</td>\n",
       "      <td>3.2</td>\n",
       "      <td>1.3</td>\n",
       "      <td>0.2</td>\n",
       "      <td>Iris-setosa</td>\n",
       "    </tr>\n",
       "    <tr>\n",
       "      <th>3</th>\n",
       "      <td>4.6</td>\n",
       "      <td>3.1</td>\n",
       "      <td>1.5</td>\n",
       "      <td>0.2</td>\n",
       "      <td>Iris-setosa</td>\n",
       "    </tr>\n",
       "    <tr>\n",
       "      <th>4</th>\n",
       "      <td>5.0</td>\n",
       "      <td>3.6</td>\n",
       "      <td>1.4</td>\n",
       "      <td>0.2</td>\n",
       "      <td>Iris-setosa</td>\n",
       "    </tr>\n",
       "  </tbody>\n",
       "</table>\n",
       "</div>"
      ],
      "text/plain": [
       "     0    1    2    3            4\n",
       "0  5.1  3.5  1.4  0.2  Iris-setosa\n",
       "1  4.9  3.0  1.4  0.2  Iris-setosa\n",
       "2  4.7  3.2  1.3  0.2  Iris-setosa\n",
       "3  4.6  3.1  1.5  0.2  Iris-setosa\n",
       "4  5.0  3.6  1.4  0.2  Iris-setosa"
      ]
     },
     "execution_count": 25,
     "metadata": {},
     "output_type": "execute_result"
    }
   ],
   "source": [
    "iris.head()"
   ]
  },
  {
   "cell_type": "code",
   "execution_count": 26,
   "metadata": {},
   "outputs": [],
   "source": [
    "X = iris.values[:, 0:4].astype(np.float32)\n",
    "y = iris[4]"
   ]
  },
  {
   "cell_type": "code",
   "execution_count": 27,
   "metadata": {},
   "outputs": [],
   "source": [
    "X_train, X_test, y_train, y_test = train_test_split(X, y)"
   ]
  },
  {
   "cell_type": "code",
   "execution_count": 28,
   "metadata": {},
   "outputs": [
    {
     "data": {
      "text/plain": [
       "Iris-setosa        50\n",
       "Iris-versicolor    50\n",
       "Iris-virginica     50\n",
       "Name: 4, dtype: int64"
      ]
     },
     "execution_count": 28,
     "metadata": {},
     "output_type": "execute_result"
    }
   ],
   "source": [
    "y.value_counts()"
   ]
  },
  {
   "cell_type": "code",
   "execution_count": 29,
   "metadata": {},
   "outputs": [],
   "source": [
    "y_train = pd.get_dummies(y_train)\n",
    "y_test = pd.get_dummies(y_test)"
   ]
  },
  {
   "cell_type": "code",
   "execution_count": 30,
   "metadata": {},
   "outputs": [
    {
     "data": {
      "text/html": [
       "<div>\n",
       "<style scoped>\n",
       "    .dataframe tbody tr th:only-of-type {\n",
       "        vertical-align: middle;\n",
       "    }\n",
       "\n",
       "    .dataframe tbody tr th {\n",
       "        vertical-align: top;\n",
       "    }\n",
       "\n",
       "    .dataframe thead th {\n",
       "        text-align: right;\n",
       "    }\n",
       "</style>\n",
       "<table border=\"1\" class=\"dataframe\">\n",
       "  <thead>\n",
       "    <tr style=\"text-align: right;\">\n",
       "      <th></th>\n",
       "      <th>Iris-setosa</th>\n",
       "      <th>Iris-versicolor</th>\n",
       "      <th>Iris-virginica</th>\n",
       "    </tr>\n",
       "  </thead>\n",
       "  <tbody>\n",
       "    <tr>\n",
       "      <th>145</th>\n",
       "      <td>0</td>\n",
       "      <td>0</td>\n",
       "      <td>1</td>\n",
       "    </tr>\n",
       "    <tr>\n",
       "      <th>120</th>\n",
       "      <td>0</td>\n",
       "      <td>0</td>\n",
       "      <td>1</td>\n",
       "    </tr>\n",
       "    <tr>\n",
       "      <th>112</th>\n",
       "      <td>0</td>\n",
       "      <td>0</td>\n",
       "      <td>1</td>\n",
       "    </tr>\n",
       "  </tbody>\n",
       "</table>\n",
       "</div>"
      ],
      "text/plain": [
       "     Iris-setosa  Iris-versicolor  Iris-virginica\n",
       "145            0                0               1\n",
       "120            0                0               1\n",
       "112            0                0               1"
      ]
     },
     "execution_count": 30,
     "metadata": {},
     "output_type": "execute_result"
    }
   ],
   "source": [
    "y_train[:3]"
   ]
  },
  {
   "cell_type": "code",
   "execution_count": 31,
   "metadata": {},
   "outputs": [],
   "source": [
    "model = keras.models.Sequential()"
   ]
  },
  {
   "cell_type": "code",
   "execution_count": 32,
   "metadata": {},
   "outputs": [],
   "source": [
    "model.add(keras.layers.Dense(50, activation='relu', input_shape=(4,)))\n",
    "model.add(keras.layers.Dense(40, activation='relu'))\n",
    "model.add(keras.layers.Dropout(0.3))\n",
    "model.add(keras.layers.Dense(20, activation='relu'))\n",
    "model.add(keras.layers.Dense(3, activation='softmax'))"
   ]
  },
  {
   "cell_type": "code",
   "execution_count": 33,
   "metadata": {},
   "outputs": [],
   "source": [
    "model.compile(loss='categorical_crossentropy', optimizer='adam', metrics=['accuracy'])"
   ]
  },
  {
   "cell_type": "code",
   "execution_count": 34,
   "metadata": {},
   "outputs": [
    {
     "name": "stdout",
     "output_type": "stream",
     "text": [
      "Train on 89 samples, validate on 23 samples\n",
      "Epoch 1/150\n",
      "89/89 [==============================] - 1s 6ms/step - loss: 1.4283 - acc: 0.4494 - val_loss: 1.4292 - val_acc: 0.2609\n",
      "Epoch 2/150\n",
      "89/89 [==============================] - 0s 72us/step - loss: 1.3725 - acc: 0.3371 - val_loss: 1.3248 - val_acc: 0.2609\n",
      "Epoch 3/150\n",
      "89/89 [==============================] - 0s 39us/step - loss: 1.4057 - acc: 0.3483 - val_loss: 1.2411 - val_acc: 0.2609\n",
      "Epoch 4/150\n",
      "89/89 [==============================] - 0s 45us/step - loss: 1.2716 - acc: 0.3596 - val_loss: 1.1739 - val_acc: 0.2609\n",
      "Epoch 5/150\n",
      "89/89 [==============================] - 0s 67us/step - loss: 1.2839 - acc: 0.3820 - val_loss: 1.1194 - val_acc: 0.2609\n",
      "Epoch 6/150\n",
      "89/89 [==============================] - 0s 45us/step - loss: 1.2172 - acc: 0.3483 - val_loss: 1.0753 - val_acc: 0.3043\n",
      "Epoch 7/150\n",
      "89/89 [==============================] - 0s 56us/step - loss: 1.0316 - acc: 0.3596 - val_loss: 1.0355 - val_acc: 0.3913\n",
      "Epoch 8/150\n",
      "89/89 [==============================] - 0s 50us/step - loss: 1.0914 - acc: 0.4045 - val_loss: 1.0010 - val_acc: 0.3913\n",
      "Epoch 9/150\n",
      "89/89 [==============================] - 0s 39us/step - loss: 1.1686 - acc: 0.3596 - val_loss: 0.9733 - val_acc: 0.3913\n",
      "Epoch 10/150\n",
      "89/89 [==============================] - 0s 39us/step - loss: 1.1502 - acc: 0.3371 - val_loss: 0.9530 - val_acc: 0.3478\n",
      "Epoch 11/150\n",
      "89/89 [==============================] - 0s 39us/step - loss: 1.0209 - acc: 0.4270 - val_loss: 0.9372 - val_acc: 0.2609\n",
      "Epoch 12/150\n",
      "89/89 [==============================] - 0s 45us/step - loss: 1.0053 - acc: 0.4270 - val_loss: 0.9247 - val_acc: 0.2609\n",
      "Epoch 13/150\n",
      "89/89 [==============================] - 0s 45us/step - loss: 1.0051 - acc: 0.4944 - val_loss: 0.9145 - val_acc: 0.3478\n",
      "Epoch 14/150\n",
      "89/89 [==============================] - 0s 39us/step - loss: 0.9266 - acc: 0.5169 - val_loss: 0.9065 - val_acc: 0.4348\n",
      "Epoch 15/150\n",
      "89/89 [==============================] - 0s 39us/step - loss: 0.9005 - acc: 0.5169 - val_loss: 0.9028 - val_acc: 0.5652\n",
      "Epoch 16/150\n",
      "89/89 [==============================] - 0s 184us/step - loss: 0.9308 - acc: 0.5056 - val_loss: 0.9000 - val_acc: 0.5652\n",
      "Epoch 17/150\n",
      "89/89 [==============================] - 0s 39us/step - loss: 0.9426 - acc: 0.5281 - val_loss: 0.9000 - val_acc: 0.5652\n",
      "Epoch 18/150\n",
      "89/89 [==============================] - 0s 56us/step - loss: 0.8846 - acc: 0.5506 - val_loss: 0.8965 - val_acc: 0.5652\n",
      "Epoch 19/150\n",
      "89/89 [==============================] - 0s 45us/step - loss: 0.8033 - acc: 0.6067 - val_loss: 0.8842 - val_acc: 0.5652\n",
      "Epoch 20/150\n",
      "89/89 [==============================] - 0s 45us/step - loss: 0.8467 - acc: 0.5506 - val_loss: 0.8669 - val_acc: 0.5652\n",
      "Epoch 21/150\n",
      "89/89 [==============================] - 0s 39us/step - loss: 0.8674 - acc: 0.5843 - val_loss: 0.8473 - val_acc: 0.5652\n",
      "Epoch 22/150\n",
      "89/89 [==============================] - 0s 39us/step - loss: 0.7886 - acc: 0.7191 - val_loss: 0.8282 - val_acc: 0.5652\n",
      "Epoch 23/150\n",
      "89/89 [==============================] - 0s 33us/step - loss: 0.7501 - acc: 0.6742 - val_loss: 0.8084 - val_acc: 0.5652\n",
      "Epoch 24/150\n",
      "89/89 [==============================] - 0s 39us/step - loss: 0.7242 - acc: 0.7079 - val_loss: 0.7890 - val_acc: 0.5652\n",
      "Epoch 25/150\n",
      "89/89 [==============================] - 0s 45us/step - loss: 0.7272 - acc: 0.6742 - val_loss: 0.7703 - val_acc: 0.5652\n",
      "Epoch 26/150\n",
      "89/89 [==============================] - 0s 39us/step - loss: 0.6833 - acc: 0.7191 - val_loss: 0.7530 - val_acc: 0.5652\n",
      "Epoch 27/150\n",
      "89/89 [==============================] - 0s 56us/step - loss: 0.7394 - acc: 0.6966 - val_loss: 0.7375 - val_acc: 0.6087\n",
      "Epoch 28/150\n",
      "89/89 [==============================] - 0s 50us/step - loss: 0.7069 - acc: 0.7079 - val_loss: 0.7238 - val_acc: 0.6087\n",
      "Epoch 29/150\n",
      "89/89 [==============================] - 0s 56us/step - loss: 0.7303 - acc: 0.7079 - val_loss: 0.7121 - val_acc: 0.6087\n",
      "Epoch 30/150\n",
      "89/89 [==============================] - 0s 39us/step - loss: 0.6967 - acc: 0.7079 - val_loss: 0.7009 - val_acc: 0.6087\n",
      "Epoch 31/150\n",
      "89/89 [==============================] - 0s 50us/step - loss: 0.6386 - acc: 0.7303 - val_loss: 0.6904 - val_acc: 0.6087\n",
      "Epoch 32/150\n",
      "89/89 [==============================] - 0s 39us/step - loss: 0.6549 - acc: 0.7865 - val_loss: 0.6805 - val_acc: 0.6087\n",
      "Epoch 33/150\n",
      "89/89 [==============================] - 0s 39us/step - loss: 0.6573 - acc: 0.7528 - val_loss: 0.6713 - val_acc: 0.6087\n",
      "Epoch 34/150\n",
      "89/89 [==============================] - 0s 39us/step - loss: 0.6307 - acc: 0.7191 - val_loss: 0.6624 - val_acc: 0.6522\n",
      "Epoch 35/150\n",
      "89/89 [==============================] - 0s 39us/step - loss: 0.6263 - acc: 0.7528 - val_loss: 0.6521 - val_acc: 0.6522\n",
      "Epoch 36/150\n",
      "89/89 [==============================] - 0s 33us/step - loss: 0.6287 - acc: 0.7528 - val_loss: 0.6423 - val_acc: 0.6522\n",
      "Epoch 37/150\n",
      "89/89 [==============================] - 0s 45us/step - loss: 0.6472 - acc: 0.7191 - val_loss: 0.6333 - val_acc: 0.6957\n",
      "Epoch 38/150\n",
      "89/89 [==============================] - 0s 39us/step - loss: 0.5794 - acc: 0.7865 - val_loss: 0.6257 - val_acc: 0.6957\n",
      "Epoch 39/150\n",
      "89/89 [==============================] - 0s 61us/step - loss: 0.6080 - acc: 0.7303 - val_loss: 0.6180 - val_acc: 0.6957\n",
      "Epoch 40/150\n",
      "89/89 [==============================] - 0s 56us/step - loss: 0.5560 - acc: 0.7865 - val_loss: 0.6110 - val_acc: 0.6957\n",
      "Epoch 41/150\n",
      "89/89 [==============================] - 0s 45us/step - loss: 0.5609 - acc: 0.7865 - val_loss: 0.6029 - val_acc: 0.6957\n",
      "Epoch 42/150\n",
      "89/89 [==============================] - 0s 61us/step - loss: 0.5506 - acc: 0.7753 - val_loss: 0.5928 - val_acc: 0.6957\n",
      "Epoch 43/150\n",
      "89/89 [==============================] - 0s 50us/step - loss: 0.5547 - acc: 0.7865 - val_loss: 0.5814 - val_acc: 0.6957\n",
      "Epoch 44/150\n",
      "89/89 [==============================] - 0s 45us/step - loss: 0.5448 - acc: 0.7978 - val_loss: 0.5699 - val_acc: 0.7391\n",
      "Epoch 45/150\n",
      "89/89 [==============================] - 0s 45us/step - loss: 0.5500 - acc: 0.7753 - val_loss: 0.5590 - val_acc: 0.7391\n",
      "Epoch 46/150\n",
      "89/89 [==============================] - 0s 45us/step - loss: 0.5213 - acc: 0.8202 - val_loss: 0.5489 - val_acc: 0.7391\n",
      "Epoch 47/150\n",
      "89/89 [==============================] - 0s 39us/step - loss: 0.5122 - acc: 0.8090 - val_loss: 0.5389 - val_acc: 0.7391\n",
      "Epoch 48/150\n",
      "89/89 [==============================] - 0s 39us/step - loss: 0.5021 - acc: 0.7865 - val_loss: 0.5297 - val_acc: 0.7391\n",
      "Epoch 49/150\n",
      "89/89 [==============================] - 0s 61us/step - loss: 0.4925 - acc: 0.8652 - val_loss: 0.5201 - val_acc: 0.7391\n",
      "Epoch 50/150\n",
      "89/89 [==============================] - 0s 39us/step - loss: 0.4754 - acc: 0.8539 - val_loss: 0.5116 - val_acc: 0.7391\n",
      "Epoch 51/150\n",
      "89/89 [==============================] - 0s 39us/step - loss: 0.4830 - acc: 0.8876 - val_loss: 0.5048 - val_acc: 0.7391\n",
      "Epoch 52/150\n",
      "89/89 [==============================] - 0s 50us/step - loss: 0.4409 - acc: 0.9213 - val_loss: 0.4994 - val_acc: 0.7391\n",
      "Epoch 53/150\n",
      "89/89 [==============================] - 0s 50us/step - loss: 0.4509 - acc: 0.8989 - val_loss: 0.4934 - val_acc: 0.7391\n",
      "Epoch 54/150\n",
      "89/89 [==============================] - 0s 50us/step - loss: 0.4436 - acc: 0.8876 - val_loss: 0.4875 - val_acc: 0.7391\n",
      "Epoch 55/150\n",
      "89/89 [==============================] - 0s 50us/step - loss: 0.4084 - acc: 0.9326 - val_loss: 0.4811 - val_acc: 0.7391\n",
      "Epoch 56/150\n",
      "89/89 [==============================] - 0s 50us/step - loss: 0.3842 - acc: 0.9213 - val_loss: 0.4747 - val_acc: 0.7391\n",
      "Epoch 57/150\n",
      "89/89 [==============================] - 0s 50us/step - loss: 0.4483 - acc: 0.8876 - val_loss: 0.4691 - val_acc: 0.7391\n",
      "Epoch 58/150\n",
      "89/89 [==============================] - 0s 39us/step - loss: 0.4407 - acc: 0.8427 - val_loss: 0.4626 - val_acc: 0.7391\n",
      "Epoch 59/150\n",
      "89/89 [==============================] - 0s 39us/step - loss: 0.3851 - acc: 0.8876 - val_loss: 0.4559 - val_acc: 0.7391\n",
      "Epoch 60/150\n",
      "89/89 [==============================] - 0s 33us/step - loss: 0.4143 - acc: 0.9438 - val_loss: 0.4505 - val_acc: 0.7391\n",
      "Epoch 61/150\n",
      "89/89 [==============================] - 0s 39us/step - loss: 0.4231 - acc: 0.8764 - val_loss: 0.4432 - val_acc: 0.7826\n",
      "Epoch 62/150\n",
      "89/89 [==============================] - 0s 45us/step - loss: 0.4165 - acc: 0.8764 - val_loss: 0.4346 - val_acc: 0.7826\n"
     ]
    },
    {
     "name": "stdout",
     "output_type": "stream",
     "text": [
      "Epoch 63/150\n",
      "89/89 [==============================] - 0s 39us/step - loss: 0.3625 - acc: 0.9213 - val_loss: 0.4243 - val_acc: 0.8696\n",
      "Epoch 64/150\n",
      "89/89 [==============================] - 0s 33us/step - loss: 0.3693 - acc: 0.9101 - val_loss: 0.4167 - val_acc: 0.8696\n",
      "Epoch 65/150\n",
      "89/89 [==============================] - 0s 33us/step - loss: 0.3282 - acc: 0.9663 - val_loss: 0.4106 - val_acc: 0.8696\n",
      "Epoch 66/150\n",
      "89/89 [==============================] - 0s 50us/step - loss: 0.3924 - acc: 0.8876 - val_loss: 0.4066 - val_acc: 0.8696\n",
      "Epoch 67/150\n",
      "89/89 [==============================] - 0s 45us/step - loss: 0.3534 - acc: 0.9326 - val_loss: 0.4065 - val_acc: 0.8696\n",
      "Epoch 68/150\n",
      "89/89 [==============================] - 0s 45us/step - loss: 0.3268 - acc: 0.9438 - val_loss: 0.4076 - val_acc: 0.8696\n",
      "Epoch 69/150\n",
      "89/89 [==============================] - 0s 45us/step - loss: 0.3615 - acc: 0.8989 - val_loss: 0.4073 - val_acc: 0.7826\n",
      "Epoch 70/150\n",
      "89/89 [==============================] - 0s 39us/step - loss: 0.3513 - acc: 0.9101 - val_loss: 0.4058 - val_acc: 0.7826\n",
      "Epoch 71/150\n",
      "89/89 [==============================] - 0s 45us/step - loss: 0.3162 - acc: 0.9326 - val_loss: 0.4021 - val_acc: 0.7826\n",
      "Epoch 72/150\n",
      "89/89 [==============================] - 0s 39us/step - loss: 0.3397 - acc: 0.8652 - val_loss: 0.3957 - val_acc: 0.7826\n",
      "Epoch 73/150\n",
      "89/89 [==============================] - 0s 39us/step - loss: 0.3322 - acc: 0.8764 - val_loss: 0.3867 - val_acc: 0.8696\n",
      "Epoch 74/150\n",
      "89/89 [==============================] - 0s 45us/step - loss: 0.3490 - acc: 0.8764 - val_loss: 0.3768 - val_acc: 0.8696\n",
      "Epoch 75/150\n",
      "89/89 [==============================] - 0s 39us/step - loss: 0.3063 - acc: 0.9438 - val_loss: 0.3659 - val_acc: 0.8696\n",
      "Epoch 76/150\n",
      "89/89 [==============================] - 0s 45us/step - loss: 0.3009 - acc: 0.9438 - val_loss: 0.3567 - val_acc: 0.8696\n",
      "Epoch 77/150\n",
      "89/89 [==============================] - 0s 50us/step - loss: 0.3155 - acc: 0.8989 - val_loss: 0.3499 - val_acc: 0.8696\n",
      "Epoch 78/150\n",
      "89/89 [==============================] - 0s 39us/step - loss: 0.3379 - acc: 0.9101 - val_loss: 0.3473 - val_acc: 0.8696\n",
      "Epoch 79/150\n",
      "89/89 [==============================] - 0s 39us/step - loss: 0.3208 - acc: 0.8876 - val_loss: 0.3474 - val_acc: 0.8696\n",
      "Epoch 80/150\n",
      "89/89 [==============================] - 0s 45us/step - loss: 0.3110 - acc: 0.9213 - val_loss: 0.3498 - val_acc: 0.8696\n",
      "Epoch 81/150\n",
      "89/89 [==============================] - 0s 45us/step - loss: 0.3013 - acc: 0.9101 - val_loss: 0.3524 - val_acc: 0.8696\n",
      "Epoch 82/150\n",
      "89/89 [==============================] - 0s 45us/step - loss: 0.3131 - acc: 0.9101 - val_loss: 0.3523 - val_acc: 0.8696\n",
      "Epoch 83/150\n",
      "89/89 [==============================] - 0s 39us/step - loss: 0.2723 - acc: 0.9213 - val_loss: 0.3481 - val_acc: 0.8696\n",
      "Epoch 84/150\n",
      "89/89 [==============================] - 0s 33us/step - loss: 0.2784 - acc: 0.9663 - val_loss: 0.3434 - val_acc: 0.8696\n",
      "Epoch 85/150\n",
      "89/89 [==============================] - 0s 33us/step - loss: 0.2979 - acc: 0.9326 - val_loss: 0.3404 - val_acc: 0.8696\n",
      "Epoch 86/150\n",
      "89/89 [==============================] - 0s 39us/step - loss: 0.2596 - acc: 0.9551 - val_loss: 0.3344 - val_acc: 0.8696\n",
      "Epoch 87/150\n",
      "89/89 [==============================] - 0s 33us/step - loss: 0.2763 - acc: 0.9213 - val_loss: 0.3265 - val_acc: 0.8696\n",
      "Epoch 88/150\n",
      "89/89 [==============================] - 0s 39us/step - loss: 0.2531 - acc: 0.9213 - val_loss: 0.3214 - val_acc: 0.8696\n",
      "Epoch 89/150\n",
      "89/89 [==============================] - 0s 39us/step - loss: 0.2747 - acc: 0.8989 - val_loss: 0.3157 - val_acc: 0.8696\n",
      "Epoch 90/150\n",
      "89/89 [==============================] - 0s 39us/step - loss: 0.2823 - acc: 0.9326 - val_loss: 0.3086 - val_acc: 0.9130\n",
      "Epoch 91/150\n",
      "89/89 [==============================] - 0s 39us/step - loss: 0.2683 - acc: 0.9438 - val_loss: 0.3017 - val_acc: 0.9130\n",
      "Epoch 92/150\n",
      "89/89 [==============================] - 0s 39us/step - loss: 0.2437 - acc: 0.9438 - val_loss: 0.2960 - val_acc: 0.9130\n",
      "Epoch 93/150\n",
      "89/89 [==============================] - 0s 39us/step - loss: 0.1936 - acc: 0.9775 - val_loss: 0.2918 - val_acc: 0.9130\n",
      "Epoch 94/150\n",
      "89/89 [==============================] - 0s 56us/step - loss: 0.2779 - acc: 0.9213 - val_loss: 0.2921 - val_acc: 0.9130\n",
      "Epoch 95/150\n",
      "89/89 [==============================] - 0s 61us/step - loss: 0.2236 - acc: 0.9775 - val_loss: 0.2941 - val_acc: 0.9130\n",
      "Epoch 96/150\n",
      "89/89 [==============================] - 0s 45us/step - loss: 0.2278 - acc: 0.9775 - val_loss: 0.2960 - val_acc: 0.9130\n",
      "Epoch 97/150\n",
      "89/89 [==============================] - 0s 39us/step - loss: 0.2739 - acc: 0.9438 - val_loss: 0.2992 - val_acc: 0.8696\n",
      "Epoch 98/150\n",
      "89/89 [==============================] - 0s 39us/step - loss: 0.2225 - acc: 0.9551 - val_loss: 0.3007 - val_acc: 0.8696\n",
      "Epoch 99/150\n",
      "89/89 [==============================] - 0s 50us/step - loss: 0.2388 - acc: 0.9438 - val_loss: 0.3017 - val_acc: 0.8696\n",
      "Epoch 100/150\n",
      "89/89 [==============================] - 0s 39us/step - loss: 0.2441 - acc: 0.9438 - val_loss: 0.2974 - val_acc: 0.8696\n",
      "Epoch 101/150\n",
      "89/89 [==============================] - 0s 45us/step - loss: 0.2296 - acc: 0.9775 - val_loss: 0.2924 - val_acc: 0.8696\n",
      "Epoch 102/150\n",
      "89/89 [==============================] - 0s 39us/step - loss: 0.2044 - acc: 0.9775 - val_loss: 0.2858 - val_acc: 0.9130\n",
      "Epoch 103/150\n",
      "89/89 [==============================] - 0s 45us/step - loss: 0.2268 - acc: 0.9438 - val_loss: 0.2782 - val_acc: 0.9130\n",
      "Epoch 104/150\n",
      "89/89 [==============================] - 0s 39us/step - loss: 0.2191 - acc: 0.9663 - val_loss: 0.2691 - val_acc: 0.9130\n",
      "Epoch 105/150\n",
      "89/89 [==============================] - 0s 39us/step - loss: 0.1887 - acc: 0.9888 - val_loss: 0.2603 - val_acc: 0.9130\n",
      "Epoch 106/150\n",
      "89/89 [==============================] - 0s 39us/step - loss: 0.2118 - acc: 0.9551 - val_loss: 0.2558 - val_acc: 0.9130\n",
      "Epoch 107/150\n",
      "89/89 [==============================] - 0s 39us/step - loss: 0.2064 - acc: 0.9438 - val_loss: 0.2524 - val_acc: 0.9130\n",
      "Epoch 108/150\n",
      "89/89 [==============================] - 0s 39us/step - loss: 0.1869 - acc: 0.9775 - val_loss: 0.2473 - val_acc: 0.9130\n",
      "Epoch 109/150\n",
      "89/89 [==============================] - 0s 50us/step - loss: 0.2528 - acc: 0.8989 - val_loss: 0.2439 - val_acc: 0.9130\n",
      "Epoch 110/150\n",
      "89/89 [==============================] - 0s 45us/step - loss: 0.2442 - acc: 0.9326 - val_loss: 0.2436 - val_acc: 0.9130\n",
      "Epoch 111/150\n",
      "89/89 [==============================] - 0s 45us/step - loss: 0.1932 - acc: 0.9775 - val_loss: 0.2445 - val_acc: 0.9130\n",
      "Epoch 112/150\n",
      "89/89 [==============================] - 0s 45us/step - loss: 0.1784 - acc: 0.9775 - val_loss: 0.2486 - val_acc: 0.9130\n",
      "Epoch 113/150\n",
      "89/89 [==============================] - 0s 45us/step - loss: 0.2183 - acc: 0.9551 - val_loss: 0.2517 - val_acc: 0.9130\n",
      "Epoch 114/150\n",
      "89/89 [==============================] - 0s 45us/step - loss: 0.2131 - acc: 0.9438 - val_loss: 0.2530 - val_acc: 0.9130\n",
      "Epoch 115/150\n",
      "89/89 [==============================] - 0s 39us/step - loss: 0.1924 - acc: 0.9326 - val_loss: 0.2488 - val_acc: 0.9130\n",
      "Epoch 116/150\n",
      "89/89 [==============================] - 0s 39us/step - loss: 0.1949 - acc: 0.9551 - val_loss: 0.2430 - val_acc: 0.9130\n",
      "Epoch 117/150\n",
      "89/89 [==============================] - 0s 45us/step - loss: 0.1782 - acc: 0.9551 - val_loss: 0.2390 - val_acc: 0.9130\n",
      "Epoch 118/150\n",
      "89/89 [==============================] - 0s 50us/step - loss: 0.2019 - acc: 0.9438 - val_loss: 0.2341 - val_acc: 0.9130\n",
      "Epoch 119/150\n",
      "89/89 [==============================] - 0s 50us/step - loss: 0.1793 - acc: 0.9888 - val_loss: 0.2283 - val_acc: 0.9130\n",
      "Epoch 120/150\n",
      "89/89 [==============================] - 0s 39us/step - loss: 0.1491 - acc: 0.9663 - val_loss: 0.2238 - val_acc: 0.9130\n",
      "Epoch 121/150\n",
      "89/89 [==============================] - 0s 39us/step - loss: 0.1732 - acc: 0.9551 - val_loss: 0.2214 - val_acc: 0.9130\n",
      "Epoch 122/150\n",
      "89/89 [==============================] - 0s 39us/step - loss: 0.1887 - acc: 0.9775 - val_loss: 0.2230 - val_acc: 0.9130\n",
      "Epoch 123/150\n",
      "89/89 [==============================] - 0s 39us/step - loss: 0.1585 - acc: 0.9888 - val_loss: 0.2285 - val_acc: 0.9130\n",
      "Epoch 124/150\n",
      "89/89 [==============================] - 0s 50us/step - loss: 0.1532 - acc: 0.9438 - val_loss: 0.2312 - val_acc: 0.9130\n"
     ]
    },
    {
     "name": "stdout",
     "output_type": "stream",
     "text": [
      "Epoch 125/150\n",
      "89/89 [==============================] - 0s 45us/step - loss: 0.1463 - acc: 0.9888 - val_loss: 0.2349 - val_acc: 0.9130\n",
      "Epoch 126/150\n",
      "89/89 [==============================] - 0s 45us/step - loss: 0.1554 - acc: 0.9663 - val_loss: 0.2383 - val_acc: 0.9130\n",
      "Epoch 127/150\n",
      "89/89 [==============================] - 0s 39us/step - loss: 0.1332 - acc: 0.9775 - val_loss: 0.2385 - val_acc: 0.9130\n",
      "Epoch 128/150\n",
      "89/89 [==============================] - 0s 50us/step - loss: 0.1356 - acc: 0.9775 - val_loss: 0.2333 - val_acc: 0.9130\n",
      "Epoch 129/150\n",
      "89/89 [==============================] - 0s 39us/step - loss: 0.1471 - acc: 0.9663 - val_loss: 0.2256 - val_acc: 0.9130\n",
      "Epoch 130/150\n",
      "89/89 [==============================] - 0s 39us/step - loss: 0.1347 - acc: 0.9888 - val_loss: 0.2210 - val_acc: 0.9130\n",
      "Epoch 131/150\n",
      "89/89 [==============================] - 0s 39us/step - loss: 0.1346 - acc: 0.9775 - val_loss: 0.2142 - val_acc: 0.9130\n",
      "Epoch 132/150\n",
      "89/89 [==============================] - 0s 39us/step - loss: 0.1899 - acc: 0.9213 - val_loss: 0.2033 - val_acc: 0.9130\n",
      "Epoch 133/150\n",
      "89/89 [==============================] - 0s 39us/step - loss: 0.1299 - acc: 0.9888 - val_loss: 0.1923 - val_acc: 0.9130\n",
      "Epoch 134/150\n",
      "89/89 [==============================] - 0s 50us/step - loss: 0.1273 - acc: 0.9775 - val_loss: 0.1888 - val_acc: 0.9130\n",
      "Epoch 135/150\n",
      "89/89 [==============================] - 0s 39us/step - loss: 0.1617 - acc: 0.9663 - val_loss: 0.1929 - val_acc: 0.9130\n",
      "Epoch 136/150\n",
      "89/89 [==============================] - 0s 39us/step - loss: 0.1582 - acc: 0.9551 - val_loss: 0.1988 - val_acc: 0.9130\n",
      "Epoch 137/150\n",
      "89/89 [==============================] - 0s 39us/step - loss: 0.1308 - acc: 0.9775 - val_loss: 0.2062 - val_acc: 0.9130\n",
      "Epoch 138/150\n",
      "89/89 [==============================] - 0s 39us/step - loss: 0.0989 - acc: 1.0000 - val_loss: 0.2144 - val_acc: 0.9130\n",
      "Epoch 139/150\n",
      "89/89 [==============================] - 0s 45us/step - loss: 0.1569 - acc: 0.9663 - val_loss: 0.2244 - val_acc: 0.9130\n",
      "Epoch 140/150\n",
      "89/89 [==============================] - 0s 45us/step - loss: 0.1657 - acc: 0.9438 - val_loss: 0.2337 - val_acc: 0.9130\n",
      "Epoch 141/150\n",
      "89/89 [==============================] - 0s 39us/step - loss: 0.2127 - acc: 0.9101 - val_loss: 0.2355 - val_acc: 0.9130\n",
      "Epoch 142/150\n",
      "89/89 [==============================] - 0s 39us/step - loss: 0.1034 - acc: 0.9888 - val_loss: 0.2323 - val_acc: 0.9130\n",
      "Epoch 143/150\n",
      "89/89 [==============================] - 0s 33us/step - loss: 0.1364 - acc: 0.9888 - val_loss: 0.2195 - val_acc: 0.9130\n",
      "Epoch 144/150\n",
      "89/89 [==============================] - 0s 45us/step - loss: 0.1489 - acc: 0.9663 - val_loss: 0.2083 - val_acc: 0.9130\n",
      "Epoch 145/150\n",
      "89/89 [==============================] - 0s 45us/step - loss: 0.1320 - acc: 0.9663 - val_loss: 0.1930 - val_acc: 0.9130\n",
      "Epoch 146/150\n",
      "89/89 [==============================] - 0s 45us/step - loss: 0.1085 - acc: 0.9775 - val_loss: 0.1798 - val_acc: 0.9130\n",
      "Epoch 147/150\n",
      "89/89 [==============================] - 0s 39us/step - loss: 0.1305 - acc: 0.9888 - val_loss: 0.1758 - val_acc: 0.9130\n",
      "Epoch 148/150\n",
      "89/89 [==============================] - 0s 45us/step - loss: 0.1482 - acc: 0.9663 - val_loss: 0.1770 - val_acc: 0.9130\n",
      "Epoch 149/150\n",
      "89/89 [==============================] - 0s 45us/step - loss: 0.1236 - acc: 0.9888 - val_loss: 0.1801 - val_acc: 0.9130\n",
      "Epoch 150/150\n",
      "89/89 [==============================] - 0s 39us/step - loss: 0.1086 - acc: 0.9888 - val_loss: 0.1817 - val_acc: 0.9130\n"
     ]
    }
   ],
   "source": [
    "history = model.fit(X_train, y_train, epochs=150, batch_size=100, validation_split=0.2)"
   ]
  },
  {
   "cell_type": "code",
   "execution_count": 35,
   "metadata": {},
   "outputs": [
    {
     "name": "stdout",
     "output_type": "stream",
     "text": [
      "\r",
      "38/38 [==============================] - 0s 77us/step\n"
     ]
    },
    {
     "data": {
      "text/plain": [
       "[0.19130179286003113, 0.9473684430122375]"
      ]
     },
     "execution_count": 35,
     "metadata": {},
     "output_type": "execute_result"
    }
   ],
   "source": [
    "model.evaluate(X_test, y_test, batch_size=100)"
   ]
  },
  {
   "cell_type": "code",
   "execution_count": 36,
   "metadata": {
    "scrolled": true
   },
   "outputs": [
    {
     "data": {
      "text/plain": [
       "<matplotlib.legend.Legend at 0x20d27413898>"
      ]
     },
     "execution_count": 36,
     "metadata": {},
     "output_type": "execute_result"
    },
    {
     "data": {
      "image/png": "[encoded data removed]",
      "text/plain": [
       "<Figure size 432x288 with 1 Axes>"
      ]
     },
     "metadata": {},
     "output_type": "display_data"
    }
   ],
   "source": [
    "fig = plt.figure()\n",
    "plt.plot(history.history['loss'], label='loss')\n",
    "plt.plot(history.history['val_loss'], label='val_loss')\n",
    "plt.legend()\n"
   ]
  },
  {
   "cell_type": "code",
   "execution_count": 39,
   "metadata": {},
   "outputs": [
    {
     "data": {
      "text/plain": [
       "array(['Iris-setosa', 'Iris-versicolor', 'Iris-virginica'], dtype=object)"
      ]
     },
     "execution_count": 39,
     "metadata": {},
     "output_type": "execute_result"
    }
   ],
   "source": [
    "y.unique()"
   ]
  },
  {
   "cell_type": "code",
   "execution_count": 38,
   "metadata": {},
   "outputs": [
    {
     "data": {
      "text/plain": [
       "array([0], dtype=int64)"
      ]
     },
     "execution_count": 38,
     "metadata": {},
     "output_type": "execute_result"
    }
   ],
   "source": [
    "model.predict_classes(X[0].reshape(1, -1))  #예측 결과  Iris-setosa"
   ]
  },
  {
   "cell_type": "code",
   "execution_count": 43,
   "metadata": {},
   "outputs": [
    {
     "data": {
      "text/plain": [
       "array([2], dtype=int64)"
      ]
     },
     "execution_count": 43,
     "metadata": {},
     "output_type": "execute_result"
    }
   ],
   "source": [
    "model.predict_classes(X[103].reshape(1, -1))  #예측 결과  Iris-virginica"
   ]
  },
  {
   "cell_type": "code",
   "execution_count": null,
   "metadata": {},
   "outputs": [],
   "source": []
  },
  {
   "cell_type": "code",
   "execution_count": null,
   "metadata": {},
   "outputs": [],
   "source": []
  }
 ],
 "metadata": {
  "kernelspec": {
   "display_name": "Python 3",
   "language": "python",
   "name": "python3"
  },
  "language_info": {
   "codemirror_mode": {
    "name": "ipython",
    "version": 3
   },
   "file_extension": ".py",
   "mimetype": "text/x-python",
   "name": "python",
   "nbconvert_exporter": "python",
   "pygments_lexer": "ipython3",
   "version": "3.6.4"
  }
 },
 "nbformat": 4,
 "nbformat_minor": 2
}
