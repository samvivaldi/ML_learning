{
 "cells": [
  {
   "cell_type": "code",
   "execution_count": 1,
   "metadata": {},
   "outputs": [],
   "source": [
    "import numpy as np\n",
    "import matplotlib.pyplot as plt"
   ]
  },
  {
   "cell_type": "code",
   "execution_count": 2,
   "metadata": {},
   "outputs": [],
   "source": [
    "# 학습 데이터를 읽어들인다\n",
    "train = np.loadtxt('./data/images1.csv', delimiter=',', skiprows=1)  #가로,세로로 가로가 길면 1\n",
    "train_x = train[:,0:2]\n",
    "train_y = train[:,2]"
   ]
  },
  {
   "cell_type": "code",
   "execution_count": 3,
   "metadata": {},
   "outputs": [],
   "source": [
    "# 웨이트를 초기화한다\n",
    "w = np.random.rand(2)"
   ]
  },
  {
   "cell_type": "code",
   "execution_count": 4,
   "metadata": {},
   "outputs": [],
   "source": [
    "# 식별함수\n",
    "def f(x):\n",
    "    if np.dot(w, x) >= 0:\n",
    "        return 1\n",
    "    else:\n",
    "        return -1"
   ]
  },
  {
   "cell_type": "code",
   "execution_count": 5,
   "metadata": {},
   "outputs": [],
   "source": [
    "# 반복할 횟수\n",
    "epoch = 10\n",
    "\n",
    "# 갱신 횟수\n",
    "count = 0"
   ]
  },
  {
   "cell_type": "code",
   "execution_count": 6,
   "metadata": {},
   "outputs": [
    {
     "name": "stdout",
     "output_type": "stream",
     "text": [
      "1회째: w = [ 372.48997148 -593.12220677]\n",
      "2회째: w = [ 613.48997148 -639.12220677]\n",
      "3회째: w = [ 613.48997148 -639.12220677]\n",
      "4회째: w = [ 613.48997148 -639.12220677]\n",
      "5회째: w = [ 613.48997148 -639.12220677]\n",
      "6회째: w = [ 613.48997148 -639.12220677]\n",
      "7회째: w = [ 613.48997148 -639.12220677]\n",
      "8회째: w = [ 613.48997148 -639.12220677]\n",
      "9회째: w = [ 613.48997148 -639.12220677]\n",
      "10회째: w = [ 613.48997148 -639.12220677]\n"
     ]
    }
   ],
   "source": [
    "# 웨이트를 학습한다\n",
    "for _ in range(epoch):\n",
    "    for x, y in zip(train_x, train_y):\n",
    "        if f(x) != y:\n",
    "            w = w + y * x\n",
    "    count += 1\n",
    "    print('{}회째: w = {}'.format(count, w))    "
   ]
  },
  {
   "cell_type": "code",
   "execution_count": 7,
   "metadata": {
    "scrolled": true
   },
   "outputs": [
    {
     "data": {
      "image/png": "[encoded data removed]",
      "text/plain": [
       "<Figure size 432x288 with 1 Axes>"
      ]
     },
     "metadata": {},
     "output_type": "display_data"
    }
   ],
   "source": [
    "x1 = np.arange(0, 500)\n",
    "plt.plot(train_x[train_y ==  1, 0], train_x[train_y ==  1, 1], 'o')\n",
    "plt.plot(train_x[train_y == -1, 0], train_x[train_y == -1, 1], 'x')\n",
    "plt.plot(x1, -w[0] / w[1] * x1, linestyle='dashed')\n",
    "plt.show()\n"
   ]
  },
  {
   "cell_type": "markdown",
   "metadata": {},
   "source": [
    "## Perceptron "
   ]
  },
  {
   "cell_type": "code",
   "execution_count": 8,
   "metadata": {},
   "outputs": [],
   "source": [
    "def test(logic):\n",
    "    for x1, x2 in [(0, 0), (0, 1), (1, 0), (1, 1)]:\n",
    "        y = logic(x1, x2)\n",
    "        print(x1, x2, '|', y)\n",
    "\n",
    "def make_neuron(w, b):\n",
    "    def neuron(*x):\n",
    "        x = np.array(x)\n",
    "        z = np.dot(x, w) + b\n",
    "        y = 1 if z > 0 else 0\n",
    "        return y\n",
    "    return neuron\n"
   ]
  },
  {
   "cell_type": "code",
   "execution_count": 9,
   "metadata": {},
   "outputs": [
    {
     "name": "stdout",
     "output_type": "stream",
     "text": [
      "0 0 | 0\n",
      "0 1 | 0\n",
      "1 0 | 0\n",
      "1 1 | 1\n"
     ]
    }
   ],
   "source": [
    "AND = make_neuron(w=np.array([0.5, 0.5]), b=-0.7)\n",
    "test(AND)"
   ]
  },
  {
   "cell_type": "code",
   "execution_count": 10,
   "metadata": {},
   "outputs": [
    {
     "name": "stdout",
     "output_type": "stream",
     "text": [
      "0 0 | 1\n",
      "0 1 | 1\n",
      "1 0 | 1\n",
      "1 1 | 0\n"
     ]
    }
   ],
   "source": [
    "NAND = make_neuron(w=np.array([-0.5, -0.5]), b=0.7)\n",
    "test(NAND)"
   ]
  },
  {
   "cell_type": "code",
   "execution_count": 11,
   "metadata": {
    "scrolled": true
   },
   "outputs": [
    {
     "name": "stdout",
     "output_type": "stream",
     "text": [
      "0 0 | 0\n",
      "0 1 | 1\n",
      "1 0 | 1\n",
      "1 1 | 1\n"
     ]
    }
   ],
   "source": [
    "OR = make_neuron(w=np.array([0.5, 0.5]), b=-0.2)\n",
    "test(OR)"
   ]
  },
  {
   "cell_type": "code",
   "execution_count": 12,
   "metadata": {},
   "outputs": [
    {
     "name": "stdout",
     "output_type": "stream",
     "text": [
      "0 0 | 0\n",
      "0 1 | 1\n",
      "1 0 | 1\n",
      "1 1 | 0\n"
     ]
    }
   ],
   "source": [
    "def XOR(x1, x2):\n",
    "    s1 = NAND(x1, x2)\n",
    "    s2 = OR(x1, x2)\n",
    "    y = AND(s1, s2)\n",
    "    return y\n",
    "test(XOR)"
   ]
  },
  {
   "cell_type": "code",
   "execution_count": 13,
   "metadata": {},
   "outputs": [],
   "source": [
    "# %load perceptron.py\n",
    "import numpy as np\n",
    "\n",
    "class Perceptron:\n",
    "    def __init__(self, 학습횟수=10, 학습률=0.1):\n",
    "        self.epochs = 학습횟수\n",
    "        self.learning_rate = 학습률\n",
    "        \n",
    "    def activation(self, z):\n",
    "        return np.where(z > 0, 1, -1)\n",
    "        \n",
    "    def predict(self, x):\n",
    "        z = np.dot(x, self.w) + self.b\n",
    "        return self.activation(z)\n",
    "        \n",
    "    def fit(self, X, y):\n",
    "        self.w = np.zeros(X.shape[1])\n",
    "        self.b = 0.\n",
    "        \n",
    "        error_history = []\n",
    "        for i in range(self.epochs):\n",
    "            # 각 샘플에 대해\n",
    "            sum_square_error = 0\n",
    "            for xi, yi in zip(X, y):                \n",
    "                y_pred = self.predict(xi)\n",
    "                error = yi - y_pred\n",
    "                sum_square_error += error**2\n",
    "                # 가중치 갱신\n",
    "                update = self.learning_rate * error\n",
    "                self.w += update * xi\n",
    "                self.b += update\n",
    "            error_history.append(sum_square_error)\n",
    "            print('[훈련 {}] Error: {}'.format(\n",
    "                i, sum_square_error))"
   ]
  },
  {
   "cell_type": "code",
   "execution_count": 14,
   "metadata": {},
   "outputs": [],
   "source": [
    "import pandas as pd\n",
    "from pandas import DataFrame, Series\n"
   ]
  },
  {
   "cell_type": "markdown",
   "metadata": {},
   "source": [
    "## 붓꽃 데이타 \n",
    "### 데이타 형태\n",
    "- 총 150개의 꽃받침(sepal)과 꽃잎(petal)의 크기별 종 데이터\n",
    "- 품종 : Setosa, versicolor, virginica\n"
   ]
  },
  {
   "cell_type": "code",
   "execution_count": 15,
   "metadata": {},
   "outputs": [],
   "source": [
    "iris = pd.read_csv('data/iris.data', header=None)"
   ]
  },
  {
   "cell_type": "code",
   "execution_count": 16,
   "metadata": {},
   "outputs": [],
   "source": [
    "data = iris[:100]"
   ]
  },
  {
   "cell_type": "code",
   "execution_count": 17,
   "metadata": {},
   "outputs": [],
   "source": [
    "X = data.values[:,:4].astype(np.float64)\n",
    "y = data[4]"
   ]
  },
  {
   "cell_type": "code",
   "execution_count": 18,
   "metadata": {},
   "outputs": [
    {
     "data": {
      "text/plain": [
       "array(['Iris-setosa', 'Iris-versicolor'], dtype=object)"
      ]
     },
     "execution_count": 18,
     "metadata": {},
     "output_type": "execute_result"
    }
   ],
   "source": [
    "np.unique(y)"
   ]
  },
  {
   "cell_type": "code",
   "execution_count": 19,
   "metadata": {},
   "outputs": [],
   "source": [
    "y = y.replace(np.unique(y), [1, -1])"
   ]
  },
  {
   "cell_type": "code",
   "execution_count": 20,
   "metadata": {},
   "outputs": [
    {
     "data": {
      "text/plain": [
       " 1    50\n",
       "-1    50\n",
       "Name: 4, dtype: int64"
      ]
     },
     "execution_count": 20,
     "metadata": {},
     "output_type": "execute_result"
    }
   ],
   "source": [
    "y.value_counts()"
   ]
  },
  {
   "cell_type": "code",
   "execution_count": 21,
   "metadata": {},
   "outputs": [
    {
     "name": "stdout",
     "output_type": "stream",
     "text": [
      "[훈련 0] Error: 8\n",
      "[훈련 1] Error: 8\n",
      "[훈련 2] Error: 4\n",
      "[훈련 3] Error: 0\n",
      "[훈련 4] Error: 0\n",
      "[훈련 5] Error: 0\n",
      "[훈련 6] Error: 0\n",
      "[훈련 7] Error: 0\n",
      "[훈련 8] Error: 0\n",
      "[훈련 9] Error: 0\n"
     ]
    }
   ],
   "source": [
    "perceptron = Perceptron(학습횟수=10, 학습률=0.1)\n",
    "error_history = perceptron.fit(X, y.values)"
   ]
  },
  {
   "cell_type": "code",
   "execution_count": 22,
   "metadata": {},
   "outputs": [
    {
     "data": {
      "image/png": "[encoded data removed]",
      "text/plain": [
       "<Figure size 432x288 with 1 Axes>"
      ]
     },
     "metadata": {},
     "output_type": "display_data"
    }
   ],
   "source": [
    "x1 = np.arange(0, 500)\n",
    "plt.plot(train_x[train_y ==  1, 0], train_x[train_y ==  1, 1], 'o')\n",
    "plt.plot(train_x[train_y == -1, 0], train_x[train_y == -1, 1], 'x')\n",
    "plt.plot(x1, -w[0] / w[1] * x1, linestyle='dashed')\n",
    "plt.show()"
   ]
  },
  {
   "cell_type": "code",
   "execution_count": null,
   "metadata": {},
   "outputs": [],
   "source": []
  },
  {
   "cell_type": "code",
   "execution_count": null,
   "metadata": {},
   "outputs": [],
   "source": []
  }
 ],
 "metadata": {
  "kernelspec": {
   "display_name": "Python 3",
   "language": "python",
   "name": "python3"
  },
  "language_info": {
   "codemirror_mode": {
    "name": "ipython",
    "version": 3
   },
   "file_extension": ".py",
   "mimetype": "text/x-python",
   "name": "python",
   "nbconvert_exporter": "python",
   "pygments_lexer": "ipython3",
   "version": "3.6.4"
  }
 },
 "nbformat": 4,
 "nbformat_minor": 2
}
